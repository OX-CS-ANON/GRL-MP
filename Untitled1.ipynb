{
  "nbformat": 4,
  "nbformat_minor": 0,
  "metadata": {
    "colab": {
      "provenance": [],
      "gpuType": "T4"
    },
    "kernelspec": {
      "name": "python3",
      "display_name": "Python 3"
    },
    "language_info": {
      "name": "python"
    },
    "accelerator": "GPU"
  },
  "cells": [
    {
      "cell_type": "code",
      "source": [
        "!python -c \"import torch; print(torch.__version__)\""
      ],
      "metadata": {
        "colab": {
          "base_uri": "https://localhost:8080/"
        },
        "id": "VtKLMrYBjFzF",
        "outputId": "95511ee6-bbd2-44d6-9eb9-21f230db0d16"
      },
      "execution_count": 54,
      "outputs": [
        {
          "output_type": "stream",
          "name": "stdout",
          "text": [
            "2.1.0+cu121\n"
          ]
        }
      ]
    },
    {
      "cell_type": "code",
      "source": [
        "# %%capture\n",
        "\"\"\"\n",
        "Assign to TORCH with what you get from the cell above. E.g., export TORCH=1.12.1+cu113\n",
        "\"\"\"\n",
        "# %env TORCH=2.1.0+cu118\n",
        "# !pip uninstall torch-scatter\n",
        "# !pip uninstall torch-sparse\n",
        "# !pip uninstall torch-geometric\n",
        "!pip install torch-scatter -f https://data.pyg.org/whl/torch-2.1.0+cu121.html\n",
        "!pip install torch-sparse -f https://data.pyg.org/whl/torch-2.1.0+cu121.html\n",
        "!pip install torch-geometric -f https://data.pyg.ord/whl/torch-2.1.0+cu121.html"
      ],
      "metadata": {
        "colab": {
          "base_uri": "https://localhost:8080/"
        },
        "id": "rnpgiWuAjGhR",
        "outputId": "792cc4e3-d293-4c6a-eba9-f28dd7792607"
      },
      "execution_count": 55,
      "outputs": [
        {
          "output_type": "stream",
          "name": "stdout",
          "text": [
            "Looking in links: https://data.pyg.org/whl/torch-2.1.0+cu121.html\n",
            "Requirement already satisfied: torch-scatter in /usr/local/lib/python3.10/dist-packages (2.1.2+pt21cu121)\n",
            "Looking in links: https://data.pyg.org/whl/torch-2.1.0+cu121.html\n",
            "Requirement already satisfied: torch-sparse in /usr/local/lib/python3.10/dist-packages (0.6.18+pt21cu121)\n",
            "Requirement already satisfied: scipy in /usr/local/lib/python3.10/dist-packages (from torch-sparse) (1.11.4)\n",
            "Requirement already satisfied: numpy<1.28.0,>=1.21.6 in /usr/local/lib/python3.10/dist-packages (from scipy->torch-sparse) (1.23.5)\n",
            "Looking in links: https://data.pyg.ord/whl/torch-2.1.0+cu121.html\n",
            "Requirement already satisfied: torch-geometric in /usr/local/lib/python3.10/dist-packages (2.4.0)\n",
            "Requirement already satisfied: tqdm in /usr/local/lib/python3.10/dist-packages (from torch-geometric) (4.66.1)\n",
            "Requirement already satisfied: numpy in /usr/local/lib/python3.10/dist-packages (from torch-geometric) (1.23.5)\n",
            "Requirement already satisfied: scipy in /usr/local/lib/python3.10/dist-packages (from torch-geometric) (1.11.4)\n",
            "Requirement already satisfied: jinja2 in /usr/local/lib/python3.10/dist-packages (from torch-geometric) (3.1.2)\n",
            "Requirement already satisfied: requests in /usr/local/lib/python3.10/dist-packages (from torch-geometric) (2.31.0)\n",
            "Requirement already satisfied: pyparsing in /usr/local/lib/python3.10/dist-packages (from torch-geometric) (3.1.1)\n",
            "Requirement already satisfied: scikit-learn in /usr/local/lib/python3.10/dist-packages (from torch-geometric) (1.2.2)\n",
            "Requirement already satisfied: psutil>=5.8.0 in /usr/local/lib/python3.10/dist-packages (from torch-geometric) (5.9.5)\n",
            "Requirement already satisfied: MarkupSafe>=2.0 in /usr/local/lib/python3.10/dist-packages (from jinja2->torch-geometric) (2.1.3)\n",
            "Requirement already satisfied: charset-normalizer<4,>=2 in /usr/local/lib/python3.10/dist-packages (from requests->torch-geometric) (3.3.2)\n",
            "Requirement already satisfied: idna<4,>=2.5 in /usr/local/lib/python3.10/dist-packages (from requests->torch-geometric) (3.6)\n",
            "Requirement already satisfied: urllib3<3,>=1.21.1 in /usr/local/lib/python3.10/dist-packages (from requests->torch-geometric) (2.0.7)\n",
            "Requirement already satisfied: certifi>=2017.4.17 in /usr/local/lib/python3.10/dist-packages (from requests->torch-geometric) (2023.11.17)\n",
            "Requirement already satisfied: joblib>=1.1.1 in /usr/local/lib/python3.10/dist-packages (from scikit-learn->torch-geometric) (1.3.2)\n",
            "Requirement already satisfied: threadpoolctl>=2.0.0 in /usr/local/lib/python3.10/dist-packages (from scikit-learn->torch-geometric) (3.2.0)\n"
          ]
        }
      ]
    },
    {
      "cell_type": "code",
      "source": [
        "# Let's first import all the things we are gonna need for this task\n",
        "import torch\n",
        "import time\n",
        "import torch.nn as nn\n",
        "import numpy as np\n",
        "import random\n",
        "import torch.nn.functional as F\n",
        "device = torch.device(\"cuda\") if torch.cuda.is_available() else torch.device(\"cpu\")\n",
        "print(device)\n",
        "from torch_scatter import scatter\n",
        "# import torch_scatter\n",
        "from torch_geometric.nn import MessagePassing\n",
        "import torch_geometric.utils as U\n",
        "# torch_geometric only used to load the Cora dataset\n",
        "from torch_geometric.datasets import Planetoid\n",
        "from torch_geometric.loader import DataLoader\n",
        "from torch_geometric.data.data import Data\n",
        "import torch_geometric.utils as U\n",
        "import torch_geometric.nn.models as models\n",
        "import torch\n",
        "from sklearn.metrics import roc_auc_score\n",
        "from torch_geometric.datasets import TUDataset\n",
        "from torch.nn import Linear, ReLU, Dropout, BatchNorm1d, Sigmoid\n",
        "from torch_geometric.nn import Sequential, GCNConv, GINConv, GATConv, JumpingKnowledge\n",
        "from torch_geometric.nn import global_mean_pool\n",
        "from sklearn.model_selection import KFold\n",
        "from torch_geometric.transforms import OneHotDegree"
      ],
      "metadata": {
        "colab": {
          "base_uri": "https://localhost:8080/"
        },
        "id": "KbdfWVeSjJIa",
        "outputId": "3278fe2d-aa34-4076-e2da-9b1b8b4d0d1e"
      },
      "execution_count": 56,
      "outputs": [
        {
          "output_type": "stream",
          "name": "stdout",
          "text": [
            "cuda\n"
          ]
        }
      ]
    },
    {
      "cell_type": "code",
      "source": [
        "# please **DO NOT** modify  any part of the following code  in this cell\n",
        "MUTAG = TUDataset(root='data/TUDataset', name='MUTAG') #3371, 7\n",
        "PROTEINS = TUDataset(root='data/TUDataset',name='PROTEINS')  # 43471, 3\n",
        "trans = OneHotDegree(540,cat=False)\n",
        "IMDB_BIN = TUDataset(root='data/TUDataset',name='IMDB-BINARY',pre_transform=trans) #\n",
        "COX2 = TUDataset(root='data/TUDataset',name='COX2') # 19252, 35\n",
        "datasets = {\"MUTAG\":MUTAG,\"PROTEINS\":PROTEINS,\"IMDB_BIN\":IMDB_BIN,\"COX2\":COX2}"
      ],
      "metadata": {
        "id": "ToipI9zjjLyK"
      },
      "execution_count": 57,
      "outputs": []
    },
    {
      "cell_type": "code",
      "source": [
        "def global_sum_pool(x, batch):\n",
        "   return scatter(x,batch,reduce='sum',dim=0)"
      ],
      "metadata": {
        "id": "UDpM8EVEjlfc"
      },
      "execution_count": 58,
      "outputs": []
    },
    {
      "cell_type": "code",
      "source": [
        "class GINConv(MessagePassing):\n",
        "    def __init__(self, emb_dim,out_dim):\n",
        "        '''\n",
        "            emb_dim (int): node embedding dimensionality\n",
        "        '''\n",
        "        super(GINConv, self).__init__(aggr = \"add\")\n",
        "\n",
        "        self.mlp = torch.nn.Sequential(torch.nn.Linear(emb_dim, 2*emb_dim), torch.nn.BatchNorm1d(2*emb_dim), torch.nn.ReLU(), torch.nn.Linear(2*emb_dim, out_dim))\n",
        "        self.eps = torch.nn.Parameter(torch.Tensor([0]))\n",
        "\n",
        "    def forward(self, x, edge_index):\n",
        "        out = self.mlp((1 + self.eps) *x + self.propagate(edge_index, x=x))\n",
        "        return out\n",
        "\n",
        "    def message(self, x_j):\n",
        "        return F.relu(x_j)\n",
        "\n",
        "    def update(self, aggr_out):\n",
        "        return aggr_out"
      ],
      "metadata": {
        "id": "E8gDVsXzmdtZ"
      },
      "execution_count": 59,
      "outputs": []
    },
    {
      "cell_type": "code",
      "source": [],
      "metadata": {
        "id": "DNkICJ-PkIB9"
      },
      "execution_count": 59,
      "outputs": []
    },
    {
      "cell_type": "code",
      "source": [
        "params = {\n",
        "    \"input_features\": 541,\n",
        "    \"hidden_features\": 50,\n",
        "    \"num_layers\": 3,\n",
        "    \"learning_rate\": 1e-3,\n",
        "    \"weight_decay\": 1e-4,\n",
        "    \"num_epochs\": 200,\n",
        "    \"num_classes\": 2,\n",
        "    \"batch_size\": 32\n",
        "}\n"
      ],
      "metadata": {
        "id": "E1KJTSe9kUwq"
      },
      "execution_count": 76,
      "outputs": []
    },
    {
      "cell_type": "code",
      "source": [
        "GCNModel = Sequential('x, edge_index, batch', [\n",
        "    (Linear(params[\"input_features\"], params[\"hidden_features\"]), 'x -> x'),\n",
        "    (GCNConv(params[\"hidden_features\"],params[\"hidden_features\"]), 'x, edge_index -> x1'),\n",
        "    (ReLU(inplace=True),'x1 -> x'),\n",
        "    (Dropout(p=0.25), 'x -> x'),\n",
        "    (GCNConv(params[\"hidden_features\"],params[\"hidden_features\"]), 'x, edge_index -> x2'),\n",
        "    (ReLU(inplace=True),'x2 -> x'),\n",
        "    (Dropout(p=0.25), 'x -> x'),\n",
        "    (GCNConv(params[\"hidden_features\"],params[\"hidden_features\"]), 'x, edge_index -> x3'),\n",
        "    (Dropout(p=0.25), 'x -> x'),\n",
        "    (global_mean_pool, 'x, batch -> x'),\n",
        "    (Linear(params[\"hidden_features\"], params[\"hidden_features\"]),'x -> x'),\n",
        "    (ReLU(inplace=True),'x -> x'),\n",
        "    (Linear(params[\"hidden_features\"], params[\"num_classes\"]),'x -> x'),\n",
        "])\n",
        "GCNModel.to(device)"
      ],
      "metadata": {
        "colab": {
          "base_uri": "https://localhost:8080/"
        },
        "id": "NNVL84rrkVPm",
        "outputId": "65e17e30-09d6-4273-f3a3-311d1116199c"
      },
      "execution_count": 77,
      "outputs": [
        {
          "output_type": "execute_result",
          "data": {
            "text/plain": [
              "Sequential(\n",
              "  (0) - Linear(in_features=541, out_features=50, bias=True): x -> x\n",
              "  (1) - GCNConv(50, 50): x, edge_index -> x1\n",
              "  (2) - ReLU(inplace=True): x1 -> x\n",
              "  (3) - Dropout(p=0.25, inplace=False): x -> x\n",
              "  (4) - GCNConv(50, 50): x, edge_index -> x2\n",
              "  (5) - ReLU(inplace=True): x2 -> x\n",
              "  (6) - Dropout(p=0.25, inplace=False): x -> x\n",
              "  (7) - GCNConv(50, 50): x, edge_index -> x3\n",
              "  (8) - Dropout(p=0.25, inplace=False): x -> x\n",
              "  (9) - <function global_mean_pool at 0x7ceaa19e2dd0>: x, batch -> x\n",
              "  (10) - Linear(in_features=50, out_features=50, bias=True): x -> x\n",
              "  (11) - ReLU(inplace=True): x -> x\n",
              "  (12) - Linear(in_features=50, out_features=2, bias=True): x -> x\n",
              ")"
            ]
          },
          "metadata": {},
          "execution_count": 77
        }
      ]
    },
    {
      "cell_type": "code",
      "source": [
        "GINModel = Sequential('x, edge_index, batch', [\n",
        "    (Linear(params[\"input_features\"], params[\"hidden_features\"]), 'x -> x'),\n",
        "    (GINConv(params[\"hidden_features\"],params[\"hidden_features\"]), 'x, edge_index -> x1'),\n",
        "    (BatchNorm1d(params[\"hidden_features\"]),'x1 -> x'),\n",
        "    (ReLU(inplace=True),'x -> x'),\n",
        "    (Dropout(p=0.25), 'x -> x'),\n",
        "    (GINConv(params[\"hidden_features\"],params[\"hidden_features\"]), 'x, edge_index -> x2'),\n",
        "    (BatchNorm1d(params[\"hidden_features\"]),'x2 -> x'),\n",
        "    (ReLU(inplace=True),'x -> x'),\n",
        "    (Dropout(p=0.25), 'x -> x'),\n",
        "    (GINConv(params[\"hidden_features\"],params[\"hidden_features\"]), 'x, edge_index -> x3'),\n",
        "    (BatchNorm1d(params[\"hidden_features\"]),'x3 -> x'),\n",
        "    (Dropout(p=0.25), 'x -> x'),\n",
        "    # (lambda x1, x2, x3: [x1, x2,x3], 'x1, x2, x3 -> xs'),\n",
        "    # (JumpingKnowledge(\"max\", params[\"hidden_features\"], num_layers=2), 'xs -> x'),\n",
        "    # Linear(params[\"hidden_features\"], params[\"hidden_features\"]),\n",
        "    (global_sum_pool, 'x, batch -> x'),\n",
        "    (Linear(params[\"hidden_features\"], params[\"hidden_features\"]),'x -> x'),\n",
        "    (ReLU(inplace=True),'x -> x'),\n",
        "    (Linear(params[\"hidden_features\"], params[\"num_classes\"]),'x -> x'),\n",
        "])\n",
        "GINModel.to(device)"
      ],
      "metadata": {
        "colab": {
          "base_uri": "https://localhost:8080/"
        },
        "id": "E8FjZZz8G08z",
        "outputId": "1def4b6b-be25-483f-fbda-b6aa80460bef"
      },
      "execution_count": 78,
      "outputs": [
        {
          "output_type": "execute_result",
          "data": {
            "text/plain": [
              "Sequential(\n",
              "  (0) - Linear(in_features=541, out_features=50, bias=True): x -> x\n",
              "  (1) - GINConv(): x, edge_index -> x1\n",
              "  (2) - BatchNorm1d(50, eps=1e-05, momentum=0.1, affine=True, track_running_stats=True): x1 -> x\n",
              "  (3) - ReLU(inplace=True): x -> x\n",
              "  (4) - Dropout(p=0.25, inplace=False): x -> x\n",
              "  (5) - GINConv(): x, edge_index -> x2\n",
              "  (6) - BatchNorm1d(50, eps=1e-05, momentum=0.1, affine=True, track_running_stats=True): x2 -> x\n",
              "  (7) - ReLU(inplace=True): x -> x\n",
              "  (8) - Dropout(p=0.25, inplace=False): x -> x\n",
              "  (9) - GINConv(): x, edge_index -> x3\n",
              "  (10) - BatchNorm1d(50, eps=1e-05, momentum=0.1, affine=True, track_running_stats=True): x3 -> x\n",
              "  (11) - Dropout(p=0.25, inplace=False): x -> x\n",
              "  (12) - <function global_sum_pool at 0x7cea4dddf010>: x, batch -> x\n",
              "  (13) - Linear(in_features=50, out_features=50, bias=True): x -> x\n",
              "  (14) - ReLU(inplace=True): x -> x\n",
              "  (15) - Linear(in_features=50, out_features=2, bias=True): x -> x\n",
              ")"
            ]
          },
          "metadata": {},
          "execution_count": 78
        }
      ]
    },
    {
      "cell_type": "code",
      "source": [
        "GATModel = Sequential('x, edge_index, batch', [\n",
        "    (Linear(params[\"input_features\"], params[\"hidden_features\"]), 'x -> x'),\n",
        "    (GATConv(params[\"hidden_features\"],params[\"hidden_features\"]), 'x, edge_index -> x1'),\n",
        "    (ReLU(inplace=True),'x1 -> x'),\n",
        "    (Dropout(p=0.25), 'x -> x'),\n",
        "    (GATConv(params[\"hidden_features\"],params[\"hidden_features\"]), 'x, edge_index -> x2'),\n",
        "    (ReLU(inplace=True),'x2 -> x'),\n",
        "    (Dropout(p=0.25), 'x -> x'),\n",
        "    (GATConv(params[\"hidden_features\"],params[\"hidden_features\"]), 'x, edge_index -> x3'),\n",
        "    (Dropout(p=0.25), 'x3 -> x'),\n",
        "    # ReLU(inplace=True),\n",
        "    # (lambda x1, x2, x3: [x1, x2,x3], 'x1, x2, x3 -> xs'),\n",
        "    # (JumpingKnowledge(\"max\", params[\"hidden_features\"], num_layers=2), 'xs -> x'),\n",
        "    # Linear(params[\"hidden_features\"], params[\"hidden_features\"]),\n",
        "    (global_mean_pool, 'x, batch -> x'),\n",
        "    (Linear(params[\"hidden_features\"], params[\"hidden_features\"]),'x -> x'),\n",
        "    (ReLU(inplace=True),'x -> x'),\n",
        "    (Linear(params[\"hidden_features\"], params[\"num_classes\"]),'x -> x'),\n",
        "])\n",
        "GATModel.to(device)"
      ],
      "metadata": {
        "colab": {
          "base_uri": "https://localhost:8080/"
        },
        "id": "kFlUHGn4vw9K",
        "outputId": "9000d0af-1fba-45c6-bee2-85b167e03552"
      },
      "execution_count": 79,
      "outputs": [
        {
          "output_type": "execute_result",
          "data": {
            "text/plain": [
              "Sequential(\n",
              "  (0) - Linear(in_features=541, out_features=50, bias=True): x -> x\n",
              "  (1) - GATConv(50, 50, heads=1): x, edge_index -> x1\n",
              "  (2) - ReLU(inplace=True): x1 -> x\n",
              "  (3) - Dropout(p=0.25, inplace=False): x -> x\n",
              "  (4) - GATConv(50, 50, heads=1): x, edge_index -> x2\n",
              "  (5) - ReLU(inplace=True): x2 -> x\n",
              "  (6) - Dropout(p=0.25, inplace=False): x -> x\n",
              "  (7) - GATConv(50, 50, heads=1): x, edge_index -> x3\n",
              "  (8) - Dropout(p=0.25, inplace=False): x3 -> x\n",
              "  (9) - <function global_mean_pool at 0x7ceaa19e2dd0>: x, batch -> x\n",
              "  (10) - Linear(in_features=50, out_features=50, bias=True): x -> x\n",
              "  (11) - ReLU(inplace=True): x -> x\n",
              "  (12) - Linear(in_features=50, out_features=2, bias=True): x -> x\n",
              ")"
            ]
          },
          "metadata": {},
          "execution_count": 79
        }
      ]
    },
    {
      "cell_type": "code",
      "source": [
        "GCNConcatModel = Sequential('x, edge_index, batch', [\n",
        "    (Linear(params[\"input_features\"], params[\"hidden_features\"]), 'x -> x'),\n",
        "    (GCNConv(params[\"hidden_features\"],params[\"hidden_features\"]), 'x, edge_index -> x1'),\n",
        "    (ReLU(inplace=True),'x1 -> x'),\n",
        "    (Dropout(p=0.25), 'x -> x'),\n",
        "    (GCNConv(params[\"hidden_features\"],params[\"hidden_features\"]), 'x, edge_index -> x2'),\n",
        "    (ReLU(inplace=True),'x2 -> x'),\n",
        "    (Dropout(p=0.25), 'x -> x'),\n",
        "    (GCNConv(params[\"hidden_features\"],params[\"hidden_features\"]), 'x, edge_index -> x3'),\n",
        "    (Dropout(p=0.25), 'x -> x'),\n",
        "    (lambda x1, x2, x3: [x1, x2,x3], 'x1, x2, x3 -> xs'),\n",
        "    (JumpingKnowledge(\"cat\", params[\"hidden_features\"]), 'xs -> x'),\n",
        "    (Linear(3*params[\"hidden_features\"], params[\"hidden_features\"]),'x -> x'),\n",
        "    (global_mean_pool, 'x, batch -> x'),\n",
        "    (Linear(params[\"hidden_features\"], params[\"hidden_features\"]),'x -> x'),\n",
        "    (ReLU(inplace=True),'x -> x'),\n",
        "    (Linear(params[\"hidden_features\"], params[\"num_classes\"]),'x -> x'),\n",
        "])\n",
        "GCNConcatModel.to(device)"
      ],
      "metadata": {
        "colab": {
          "base_uri": "https://localhost:8080/"
        },
        "id": "PD_oLh0s3BxW",
        "outputId": "f3870c7c-b840-4597-84b4-8fbd7c5d13e5"
      },
      "execution_count": 80,
      "outputs": [
        {
          "output_type": "execute_result",
          "data": {
            "text/plain": [
              "Sequential(\n",
              "  (0) - Linear(in_features=541, out_features=50, bias=True): x -> x\n",
              "  (1) - GCNConv(50, 50): x, edge_index -> x1\n",
              "  (2) - ReLU(inplace=True): x1 -> x\n",
              "  (3) - Dropout(p=0.25, inplace=False): x -> x\n",
              "  (4) - GCNConv(50, 50): x, edge_index -> x2\n",
              "  (5) - ReLU(inplace=True): x2 -> x\n",
              "  (6) - Dropout(p=0.25, inplace=False): x -> x\n",
              "  (7) - GCNConv(50, 50): x, edge_index -> x3\n",
              "  (8) - Dropout(p=0.25, inplace=False): x -> x\n",
              "  (9) - <function <lambda> at 0x7cea4dcff1c0>: x1, x2, x3 -> xs\n",
              "  (10) - JumpingKnowledge(cat): xs -> x\n",
              "  (11) - Linear(in_features=150, out_features=50, bias=True): x -> x\n",
              "  (12) - <function global_mean_pool at 0x7ceaa19e2dd0>: x, batch -> x\n",
              "  (13) - Linear(in_features=50, out_features=50, bias=True): x -> x\n",
              "  (14) - ReLU(inplace=True): x -> x\n",
              "  (15) - Linear(in_features=50, out_features=2, bias=True): x -> x\n",
              ")"
            ]
          },
          "metadata": {},
          "execution_count": 80
        }
      ]
    },
    {
      "cell_type": "code",
      "source": [
        "GCNMaxModel = Sequential('x, edge_index, batch', [\n",
        "    (Linear(params[\"input_features\"], params[\"hidden_features\"]), 'x -> x'),\n",
        "    (GCNConv(params[\"hidden_features\"],params[\"hidden_features\"]), 'x, edge_index -> x1'),\n",
        "    (ReLU(inplace=True),'x1 -> x'),\n",
        "    (Dropout(p=0.25), 'x -> x'),\n",
        "    (GCNConv(params[\"hidden_features\"],params[\"hidden_features\"]), 'x, edge_index -> x2'),\n",
        "    (ReLU(inplace=True),'x2 -> x'),\n",
        "    (Dropout(p=0.25), 'x -> x'),\n",
        "    (GCNConv(params[\"hidden_features\"],params[\"hidden_features\"]), 'x, edge_index -> x3'),\n",
        "    (Dropout(p=0.25), 'x -> x'),\n",
        "    (lambda x1, x2, x3: [x1, x2,x3], 'x1, x2, x3 -> xs'),\n",
        "    (JumpingKnowledge(\"max\", params[\"hidden_features\"]), 'xs -> x'),\n",
        "    (global_mean_pool, 'x, batch -> x'),\n",
        "    (Linear(params[\"hidden_features\"], params[\"hidden_features\"]),'x -> x'),\n",
        "    (ReLU(inplace=True),'x -> x'),\n",
        "    (Linear(params[\"hidden_features\"], params[\"num_classes\"]),'x -> x'),\n",
        "])\n",
        "GCNMaxModel.to(device)"
      ],
      "metadata": {
        "colab": {
          "base_uri": "https://localhost:8080/"
        },
        "id": "-kvbnKy36LAf",
        "outputId": "adac8f27-ad15-4151-ea7b-2445a593c358"
      },
      "execution_count": 81,
      "outputs": [
        {
          "output_type": "execute_result",
          "data": {
            "text/plain": [
              "Sequential(\n",
              "  (0) - Linear(in_features=541, out_features=50, bias=True): x -> x\n",
              "  (1) - GCNConv(50, 50): x, edge_index -> x1\n",
              "  (2) - ReLU(inplace=True): x1 -> x\n",
              "  (3) - Dropout(p=0.25, inplace=False): x -> x\n",
              "  (4) - GCNConv(50, 50): x, edge_index -> x2\n",
              "  (5) - ReLU(inplace=True): x2 -> x\n",
              "  (6) - Dropout(p=0.25, inplace=False): x -> x\n",
              "  (7) - GCNConv(50, 50): x, edge_index -> x3\n",
              "  (8) - Dropout(p=0.25, inplace=False): x -> x\n",
              "  (9) - <function <lambda> at 0x7cea4dddc8b0>: x1, x2, x3 -> xs\n",
              "  (10) - JumpingKnowledge(max): xs -> x\n",
              "  (11) - <function global_mean_pool at 0x7ceaa19e2dd0>: x, batch -> x\n",
              "  (12) - Linear(in_features=50, out_features=50, bias=True): x -> x\n",
              "  (13) - ReLU(inplace=True): x -> x\n",
              "  (14) - Linear(in_features=50, out_features=2, bias=True): x -> x\n",
              ")"
            ]
          },
          "metadata": {},
          "execution_count": 81
        }
      ]
    },
    {
      "cell_type": "code",
      "source": [
        "GCNLstmModel = Sequential('x, edge_index, batch', [\n",
        "    (Linear(params[\"input_features\"], params[\"hidden_features\"]), 'x -> x'),\n",
        "    (GCNConv(params[\"hidden_features\"],params[\"hidden_features\"]), 'x, edge_index -> x1'),\n",
        "    (ReLU(inplace=True),'x1 -> x'),\n",
        "    (Dropout(p=0.25), 'x -> x'),\n",
        "    (GCNConv(params[\"hidden_features\"],params[\"hidden_features\"]), 'x, edge_index -> x2'),\n",
        "    (ReLU(inplace=True),'x2 -> x'),\n",
        "    (Dropout(p=0.25), 'x -> x'),\n",
        "    (GCNConv(params[\"hidden_features\"],params[\"hidden_features\"]), 'x, edge_index -> x3'),\n",
        "    (Dropout(p=0.25), 'x -> x'),\n",
        "    (lambda x1, x2, x3: [x1, x2,x3], 'x1, x2, x3 -> xs'),\n",
        "    (JumpingKnowledge(\"lstm\", params[\"hidden_features\"],num_layers=2), 'xs -> x'),\n",
        "    (global_mean_pool, 'x, batch -> x'),\n",
        "    (Linear(params[\"hidden_features\"], params[\"hidden_features\"]),'x -> x'),\n",
        "    (ReLU(inplace=True),'x -> x'),\n",
        "    (Linear(params[\"hidden_features\"], params[\"num_classes\"]),'x -> x'),\n",
        "])\n",
        "GCNLstmModel.to(device)"
      ],
      "metadata": {
        "colab": {
          "base_uri": "https://localhost:8080/"
        },
        "id": "TPZtHFLi6Sce",
        "outputId": "4dcf15ae-9e37-4fa1-d514-2e5aef54251d"
      },
      "execution_count": 82,
      "outputs": [
        {
          "output_type": "execute_result",
          "data": {
            "text/plain": [
              "Sequential(\n",
              "  (0) - Linear(in_features=541, out_features=50, bias=True): x -> x\n",
              "  (1) - GCNConv(50, 50): x, edge_index -> x1\n",
              "  (2) - ReLU(inplace=True): x1 -> x\n",
              "  (3) - Dropout(p=0.25, inplace=False): x -> x\n",
              "  (4) - GCNConv(50, 50): x, edge_index -> x2\n",
              "  (5) - ReLU(inplace=True): x2 -> x\n",
              "  (6) - Dropout(p=0.25, inplace=False): x -> x\n",
              "  (7) - GCNConv(50, 50): x, edge_index -> x3\n",
              "  (8) - Dropout(p=0.25, inplace=False): x -> x\n",
              "  (9) - <function <lambda> at 0x7cea4dddc9d0>: x1, x2, x3 -> xs\n",
              "  (10) - JumpingKnowledge(lstm, channels=50, layers=2): xs -> x\n",
              "  (11) - <function global_mean_pool at 0x7ceaa19e2dd0>: x, batch -> x\n",
              "  (12) - Linear(in_features=50, out_features=50, bias=True): x -> x\n",
              "  (13) - ReLU(inplace=True): x -> x\n",
              "  (14) - Linear(in_features=50, out_features=2, bias=True): x -> x\n",
              ")"
            ]
          },
          "metadata": {},
          "execution_count": 82
        }
      ]
    },
    {
      "cell_type": "code",
      "source": [
        "GINConcatModel = Sequential('x, edge_index, batch', [\n",
        "    (Linear(params[\"input_features\"], params[\"hidden_features\"]), 'x -> x'),\n",
        "    (GINConv(params[\"hidden_features\"],params[\"hidden_features\"]), 'x, edge_index -> x1'),\n",
        "    (BatchNorm1d(params[\"hidden_features\"]),'x1 -> x'),\n",
        "    (ReLU(inplace=True),'x -> x'),\n",
        "    (Dropout(p=0.25), 'x -> x'),\n",
        "    (GINConv(params[\"hidden_features\"],params[\"hidden_features\"]), 'x, edge_index -> x2'),\n",
        "    (BatchNorm1d(params[\"hidden_features\"]),'x2 -> x'),\n",
        "    (ReLU(inplace=True),'x -> x'),\n",
        "    (Dropout(p=0.25), 'x -> x'),\n",
        "    (GINConv(params[\"hidden_features\"],params[\"hidden_features\"]), 'x, edge_index -> x3'),\n",
        "    (BatchNorm1d(params[\"hidden_features\"]),'x3 -> x'),\n",
        "    (Dropout(p=0.25), 'x -> x'),\n",
        "    (lambda x1, x2, x3: [x1, x2,x3], 'x1, x2, x3 -> xs'),\n",
        "    (JumpingKnowledge(\"cat\", params[\"hidden_features\"]), 'xs -> x'),\n",
        "    (Linear(3*params[\"hidden_features\"], params[\"hidden_features\"]),'x -> x'),\n",
        "    (global_sum_pool, 'x, batch -> x'),\n",
        "    (Linear(params[\"hidden_features\"], params[\"hidden_features\"]),'x -> x'),\n",
        "    (ReLU(inplace=True),'x -> x'),\n",
        "    (Linear(params[\"hidden_features\"], params[\"num_classes\"]),'x -> x'),\n",
        "])\n",
        "GINConcatModel.to(device)"
      ],
      "metadata": {
        "colab": {
          "base_uri": "https://localhost:8080/"
        },
        "id": "Kxku4-196vfo",
        "outputId": "5336c74b-e7e4-42cf-c176-ac07246056fb"
      },
      "execution_count": 83,
      "outputs": [
        {
          "output_type": "execute_result",
          "data": {
            "text/plain": [
              "Sequential(\n",
              "  (0) - Linear(in_features=541, out_features=50, bias=True): x -> x\n",
              "  (1) - GINConv(): x, edge_index -> x1\n",
              "  (2) - BatchNorm1d(50, eps=1e-05, momentum=0.1, affine=True, track_running_stats=True): x1 -> x\n",
              "  (3) - ReLU(inplace=True): x -> x\n",
              "  (4) - Dropout(p=0.25, inplace=False): x -> x\n",
              "  (5) - GINConv(): x, edge_index -> x2\n",
              "  (6) - BatchNorm1d(50, eps=1e-05, momentum=0.1, affine=True, track_running_stats=True): x2 -> x\n",
              "  (7) - ReLU(inplace=True): x -> x\n",
              "  (8) - Dropout(p=0.25, inplace=False): x -> x\n",
              "  (9) - GINConv(): x, edge_index -> x3\n",
              "  (10) - BatchNorm1d(50, eps=1e-05, momentum=0.1, affine=True, track_running_stats=True): x3 -> x\n",
              "  (11) - Dropout(p=0.25, inplace=False): x -> x\n",
              "  (12) - <function <lambda> at 0x7cea4dcfcb80>: x1, x2, x3 -> xs\n",
              "  (13) - JumpingKnowledge(cat): xs -> x\n",
              "  (14) - Linear(in_features=150, out_features=50, bias=True): x -> x\n",
              "  (15) - <function global_sum_pool at 0x7cea4dddf010>: x, batch -> x\n",
              "  (16) - Linear(in_features=50, out_features=50, bias=True): x -> x\n",
              "  (17) - ReLU(inplace=True): x -> x\n",
              "  (18) - Linear(in_features=50, out_features=2, bias=True): x -> x\n",
              ")"
            ]
          },
          "metadata": {},
          "execution_count": 83
        }
      ]
    },
    {
      "cell_type": "code",
      "source": [
        "GINMaxModel = Sequential('x, edge_index, batch', [\n",
        "    (Linear(params[\"input_features\"], params[\"hidden_features\"]), 'x -> x'),\n",
        "    (GINConv(params[\"hidden_features\"],params[\"hidden_features\"]), 'x, edge_index -> x1'),\n",
        "    (BatchNorm1d(params[\"hidden_features\"]),'x1 -> x'),\n",
        "    (ReLU(inplace=True),'x -> x'),\n",
        "    (Dropout(p=0.25), 'x -> x'),\n",
        "    (GINConv(params[\"hidden_features\"],params[\"hidden_features\"]), 'x, edge_index -> x2'),\n",
        "    (BatchNorm1d(params[\"hidden_features\"]),'x2 -> x'),\n",
        "    (ReLU(inplace=True),'x -> x'),\n",
        "    (Dropout(p=0.25), 'x -> x'),\n",
        "    (GINConv(params[\"hidden_features\"],params[\"hidden_features\"]), 'x, edge_index -> x3'),\n",
        "    (BatchNorm1d(params[\"hidden_features\"]),'x3 -> x'),\n",
        "    (Dropout(p=0.25), 'x -> x'),\n",
        "    (lambda x1, x2, x3: [x1, x2,x3], 'x1, x2, x3 -> xs'),\n",
        "    (JumpingKnowledge(\"max\", params[\"hidden_features\"]), 'xs -> x'),\n",
        "    (global_sum_pool, 'x, batch -> x'),\n",
        "    (Linear(params[\"hidden_features\"], params[\"hidden_features\"]),'x -> x'),\n",
        "    (ReLU(inplace=True),'x -> x'),\n",
        "    (Linear(params[\"hidden_features\"], params[\"num_classes\"]),'x -> x'),\n",
        "])\n",
        "GINMaxModel.to(device)"
      ],
      "metadata": {
        "colab": {
          "base_uri": "https://localhost:8080/"
        },
        "id": "sz0MPRCS66wp",
        "outputId": "7f944608-156d-4726-803b-c4e07853215f"
      },
      "execution_count": 84,
      "outputs": [
        {
          "output_type": "execute_result",
          "data": {
            "text/plain": [
              "Sequential(\n",
              "  (0) - Linear(in_features=541, out_features=50, bias=True): x -> x\n",
              "  (1) - GINConv(): x, edge_index -> x1\n",
              "  (2) - BatchNorm1d(50, eps=1e-05, momentum=0.1, affine=True, track_running_stats=True): x1 -> x\n",
              "  (3) - ReLU(inplace=True): x -> x\n",
              "  (4) - Dropout(p=0.25, inplace=False): x -> x\n",
              "  (5) - GINConv(): x, edge_index -> x2\n",
              "  (6) - BatchNorm1d(50, eps=1e-05, momentum=0.1, affine=True, track_running_stats=True): x2 -> x\n",
              "  (7) - ReLU(inplace=True): x -> x\n",
              "  (8) - Dropout(p=0.25, inplace=False): x -> x\n",
              "  (9) - GINConv(): x, edge_index -> x3\n",
              "  (10) - BatchNorm1d(50, eps=1e-05, momentum=0.1, affine=True, track_running_stats=True): x3 -> x\n",
              "  (11) - Dropout(p=0.25, inplace=False): x -> x\n",
              "  (12) - <function <lambda> at 0x7cea4dce9a20>: x1, x2, x3 -> xs\n",
              "  (13) - JumpingKnowledge(max): xs -> x\n",
              "  (14) - <function global_sum_pool at 0x7cea4dddf010>: x, batch -> x\n",
              "  (15) - Linear(in_features=50, out_features=50, bias=True): x -> x\n",
              "  (16) - ReLU(inplace=True): x -> x\n",
              "  (17) - Linear(in_features=50, out_features=2, bias=True): x -> x\n",
              ")"
            ]
          },
          "metadata": {},
          "execution_count": 84
        }
      ]
    },
    {
      "cell_type": "code",
      "source": [
        "GINLstmModel = Sequential('x, edge_index, batch', [\n",
        "    (Linear(params[\"input_features\"], params[\"hidden_features\"]), 'x -> x'),\n",
        "    (GINConv(params[\"hidden_features\"],params[\"hidden_features\"]), 'x, edge_index -> x1'),\n",
        "    (BatchNorm1d(params[\"hidden_features\"]),'x1 -> x'),\n",
        "    (ReLU(inplace=True),'x -> x'),\n",
        "    (Dropout(p=0.25), 'x -> x'),\n",
        "    (GINConv(params[\"hidden_features\"],params[\"hidden_features\"]), 'x, edge_index -> x2'),\n",
        "    (BatchNorm1d(params[\"hidden_features\"]),'x2 -> x'),\n",
        "    (ReLU(inplace=True),'x -> x'),\n",
        "    (Dropout(p=0.25), 'x -> x'),\n",
        "    (GINConv(params[\"hidden_features\"],params[\"hidden_features\"]), 'x, edge_index -> x3'),\n",
        "    (BatchNorm1d(params[\"hidden_features\"]),'x3 -> x'),\n",
        "    (Dropout(p=0.25), 'x -> x'),\n",
        "    (lambda x1, x2, x3: [x1, x2,x3], 'x1, x2, x3 -> xs'),\n",
        "    (JumpingKnowledge(\"lstm\", params[\"hidden_features\"],num_layers=2), 'xs -> x'),\n",
        "    (global_sum_pool, 'x, batch -> x'),\n",
        "    (Linear(params[\"hidden_features\"], params[\"hidden_features\"]),'x -> x'),\n",
        "    (ReLU(inplace=True),'x -> x'),\n",
        "    (Linear(params[\"hidden_features\"], params[\"num_classes\"]),'x -> x'),\n",
        "])\n",
        "GINLstmModel.to(device)"
      ],
      "metadata": {
        "colab": {
          "base_uri": "https://localhost:8080/"
        },
        "id": "v-9xS4Hb7L5U",
        "outputId": "d9784b4d-8b6f-47ef-9387-56ddafdbc605"
      },
      "execution_count": 85,
      "outputs": [
        {
          "output_type": "execute_result",
          "data": {
            "text/plain": [
              "Sequential(\n",
              "  (0) - Linear(in_features=541, out_features=50, bias=True): x -> x\n",
              "  (1) - GINConv(): x, edge_index -> x1\n",
              "  (2) - BatchNorm1d(50, eps=1e-05, momentum=0.1, affine=True, track_running_stats=True): x1 -> x\n",
              "  (3) - ReLU(inplace=True): x -> x\n",
              "  (4) - Dropout(p=0.25, inplace=False): x -> x\n",
              "  (5) - GINConv(): x, edge_index -> x2\n",
              "  (6) - BatchNorm1d(50, eps=1e-05, momentum=0.1, affine=True, track_running_stats=True): x2 -> x\n",
              "  (7) - ReLU(inplace=True): x -> x\n",
              "  (8) - Dropout(p=0.25, inplace=False): x -> x\n",
              "  (9) - GINConv(): x, edge_index -> x3\n",
              "  (10) - BatchNorm1d(50, eps=1e-05, momentum=0.1, affine=True, track_running_stats=True): x3 -> x\n",
              "  (11) - Dropout(p=0.25, inplace=False): x -> x\n",
              "  (12) - <function <lambda> at 0x7ceb962b4820>: x1, x2, x3 -> xs\n",
              "  (13) - JumpingKnowledge(lstm, channels=50, layers=2): xs -> x\n",
              "  (14) - <function global_sum_pool at 0x7cea4dddf010>: x, batch -> x\n",
              "  (15) - Linear(in_features=50, out_features=50, bias=True): x -> x\n",
              "  (16) - ReLU(inplace=True): x -> x\n",
              "  (17) - Linear(in_features=50, out_features=2, bias=True): x -> x\n",
              ")"
            ]
          },
          "metadata": {},
          "execution_count": 85
        }
      ]
    },
    {
      "cell_type": "code",
      "source": [
        "GATConcatModel = Sequential('x, edge_index, batch', [\n",
        "    (Linear(params[\"input_features\"], params[\"hidden_features\"]), 'x -> x'),\n",
        "    (GATConv(params[\"hidden_features\"],params[\"hidden_features\"]), 'x, edge_index -> x1'),\n",
        "    (ReLU(inplace=True),'x1 -> x'),\n",
        "    (Dropout(p=0.25), 'x -> x'),\n",
        "    (GATConv(params[\"hidden_features\"],params[\"hidden_features\"]), 'x, edge_index -> x2'),\n",
        "    (ReLU(inplace=True),'x2 -> x'),\n",
        "    (Dropout(p=0.25), 'x -> x'),\n",
        "    (GATConv(params[\"hidden_features\"],params[\"hidden_features\"]), 'x, edge_index -> x3'),\n",
        "    (Dropout(p=0.25), 'x3 -> x'),\n",
        "    (lambda x1, x2, x3: [x1, x2,x3], 'x1, x2, x3 -> xs'),\n",
        "    (JumpingKnowledge(\"cat\", params[\"hidden_features\"]), 'xs -> x'),\n",
        "    Linear(3*params[\"hidden_features\"], params[\"hidden_features\"]),\n",
        "    (global_mean_pool, 'x, batch -> x'),\n",
        "    (Linear(params[\"hidden_features\"], params[\"hidden_features\"]),'x -> x'),\n",
        "    (ReLU(inplace=True),'x -> x'),\n",
        "    (Linear(params[\"hidden_features\"], params[\"num_classes\"]),'x -> x'),\n",
        "])\n",
        "GATConcatModel.to(device)"
      ],
      "metadata": {
        "colab": {
          "base_uri": "https://localhost:8080/"
        },
        "id": "6_B2lrSu7u2B",
        "outputId": "0cdbdda1-980f-4bed-9f97-152893b8d7b6"
      },
      "execution_count": 86,
      "outputs": [
        {
          "output_type": "execute_result",
          "data": {
            "text/plain": [
              "Sequential(\n",
              "  (0) - Linear(in_features=541, out_features=50, bias=True): x -> x\n",
              "  (1) - GATConv(50, 50, heads=1): x, edge_index -> x1\n",
              "  (2) - ReLU(inplace=True): x1 -> x\n",
              "  (3) - Dropout(p=0.25, inplace=False): x -> x\n",
              "  (4) - GATConv(50, 50, heads=1): x, edge_index -> x2\n",
              "  (5) - ReLU(inplace=True): x2 -> x\n",
              "  (6) - Dropout(p=0.25, inplace=False): x -> x\n",
              "  (7) - GATConv(50, 50, heads=1): x, edge_index -> x3\n",
              "  (8) - Dropout(p=0.25, inplace=False): x3 -> x\n",
              "  (9) - <function <lambda> at 0x7cea94284040>: x1, x2, x3 -> xs\n",
              "  (10) - JumpingKnowledge(cat): xs -> x\n",
              "  (11) - Linear(in_features=150, out_features=50, bias=True): x -> x\n",
              "  (12) - <function global_mean_pool at 0x7ceaa19e2dd0>: x, batch -> x\n",
              "  (13) - Linear(in_features=50, out_features=50, bias=True): x -> x\n",
              "  (14) - ReLU(inplace=True): x -> x\n",
              "  (15) - Linear(in_features=50, out_features=2, bias=True): x -> x\n",
              ")"
            ]
          },
          "metadata": {},
          "execution_count": 86
        }
      ]
    },
    {
      "cell_type": "code",
      "source": [
        "GATMaxModel = Sequential('x, edge_index, batch', [\n",
        "    (Linear(params[\"input_features\"], params[\"hidden_features\"]), 'x -> x'),\n",
        "    (GATConv(params[\"hidden_features\"],params[\"hidden_features\"]), 'x, edge_index -> x1'),\n",
        "    (ReLU(inplace=True),'x1 -> x'),\n",
        "    (Dropout(p=0.25), 'x -> x'),\n",
        "    (GATConv(params[\"hidden_features\"],params[\"hidden_features\"]), 'x, edge_index -> x2'),\n",
        "    (ReLU(inplace=True),'x2 -> x'),\n",
        "    (Dropout(p=0.25), 'x -> x'),\n",
        "    (GATConv(params[\"hidden_features\"],params[\"hidden_features\"]), 'x, edge_index -> x3'),\n",
        "    (Dropout(p=0.25), 'x3 -> x'),\n",
        "    (lambda x1, x2, x3: [x1, x2,x3], 'x1, x2, x3 -> xs'),\n",
        "    (JumpingKnowledge(\"max\", params[\"hidden_features\"]), 'xs -> x'),\n",
        "    (global_mean_pool, 'x, batch -> x'),\n",
        "    (Linear(params[\"hidden_features\"], params[\"hidden_features\"]),'x -> x'),\n",
        "    (ReLU(inplace=True),'x -> x'),\n",
        "    (Linear(params[\"hidden_features\"], params[\"num_classes\"]),'x -> x'),\n",
        "])\n",
        "GATMaxModel.to(device)"
      ],
      "metadata": {
        "colab": {
          "base_uri": "https://localhost:8080/"
        },
        "id": "0eEl-yxj74ib",
        "outputId": "bb4514de-300f-4352-fc8b-bb0e2c1b9858"
      },
      "execution_count": 87,
      "outputs": [
        {
          "output_type": "execute_result",
          "data": {
            "text/plain": [
              "Sequential(\n",
              "  (0) - Linear(in_features=541, out_features=50, bias=True): x -> x\n",
              "  (1) - GATConv(50, 50, heads=1): x, edge_index -> x1\n",
              "  (2) - ReLU(inplace=True): x1 -> x\n",
              "  (3) - Dropout(p=0.25, inplace=False): x -> x\n",
              "  (4) - GATConv(50, 50, heads=1): x, edge_index -> x2\n",
              "  (5) - ReLU(inplace=True): x2 -> x\n",
              "  (6) - Dropout(p=0.25, inplace=False): x -> x\n",
              "  (7) - GATConv(50, 50, heads=1): x, edge_index -> x3\n",
              "  (8) - Dropout(p=0.25, inplace=False): x3 -> x\n",
              "  (9) - <function <lambda> at 0x7cea4dce9cf0>: x1, x2, x3 -> xs\n",
              "  (10) - JumpingKnowledge(max): xs -> x\n",
              "  (11) - <function global_mean_pool at 0x7ceaa19e2dd0>: x, batch -> x\n",
              "  (12) - Linear(in_features=50, out_features=50, bias=True): x -> x\n",
              "  (13) - ReLU(inplace=True): x -> x\n",
              "  (14) - Linear(in_features=50, out_features=2, bias=True): x -> x\n",
              ")"
            ]
          },
          "metadata": {},
          "execution_count": 87
        }
      ]
    },
    {
      "cell_type": "code",
      "source": [
        "GATLstmModel = Sequential('x, edge_index, batch', [\n",
        "    (Linear(params[\"input_features\"], params[\"hidden_features\"]), 'x -> x'),\n",
        "    (GATConv(params[\"hidden_features\"],params[\"hidden_features\"]), 'x, edge_index -> x1'),\n",
        "    (ReLU(inplace=True),'x1 -> x'),\n",
        "    (Dropout(p=0.25), 'x -> x'),\n",
        "    (GATConv(params[\"hidden_features\"],params[\"hidden_features\"]), 'x, edge_index -> x2'),\n",
        "    (ReLU(inplace=True),'x2 -> x'),\n",
        "    (Dropout(p=0.25), 'x -> x'),\n",
        "    (GATConv(params[\"hidden_features\"],params[\"hidden_features\"]), 'x, edge_index -> x3'),\n",
        "    (Dropout(p=0.25), 'x3 -> x'),\n",
        "    (lambda x1, x2, x3: [x1, x2,x3], 'x1, x2, x3 -> xs'),\n",
        "    (JumpingKnowledge(\"lstm\", params[\"hidden_features\"], num_layers=2), 'xs -> x'),\n",
        "    (global_mean_pool, 'x, batch -> x'),\n",
        "    (Linear(params[\"hidden_features\"], params[\"hidden_features\"]),'x -> x'),\n",
        "    (ReLU(inplace=True),'x -> x'),\n",
        "    (Linear(params[\"hidden_features\"], params[\"num_classes\"]),'x -> x'),\n",
        "])\n",
        "GATLstmModel.to(device)\n",
        "print(GATLstmModel.to(device))"
      ],
      "metadata": {
        "colab": {
          "base_uri": "https://localhost:8080/"
        },
        "id": "XVkLb5K479Bw",
        "outputId": "82bf893f-a7cf-4219-bb55-930b7faf694e"
      },
      "execution_count": 88,
      "outputs": [
        {
          "output_type": "stream",
          "name": "stdout",
          "text": [
            "Sequential(\n",
            "  (0) - Linear(in_features=541, out_features=50, bias=True): x -> x\n",
            "  (1) - GATConv(50, 50, heads=1): x, edge_index -> x1\n",
            "  (2) - ReLU(inplace=True): x1 -> x\n",
            "  (3) - Dropout(p=0.25, inplace=False): x -> x\n",
            "  (4) - GATConv(50, 50, heads=1): x, edge_index -> x2\n",
            "  (5) - ReLU(inplace=True): x2 -> x\n",
            "  (6) - Dropout(p=0.25, inplace=False): x -> x\n",
            "  (7) - GATConv(50, 50, heads=1): x, edge_index -> x3\n",
            "  (8) - Dropout(p=0.25, inplace=False): x3 -> x\n",
            "  (9) - <function <lambda> at 0x7cea4dcea560>: x1, x2, x3 -> xs\n",
            "  (10) - JumpingKnowledge(lstm, channels=50, layers=2): xs -> x\n",
            "  (11) - <function global_mean_pool at 0x7ceaa19e2dd0>: x, batch -> x\n",
            "  (12) - Linear(in_features=50, out_features=50, bias=True): x -> x\n",
            "  (13) - ReLU(inplace=True): x -> x\n",
            "  (14) - Linear(in_features=50, out_features=2, bias=True): x -> x\n",
            ")\n"
          ]
        }
      ]
    },
    {
      "cell_type": "code",
      "source": [
        "def train_test(model,dataset):\n",
        "    batch_size = 32\n",
        "    num_folds = 10\n",
        "    criterion = torch.nn.CrossEntropyLoss()\n",
        "    model_param_group = [{\"params\": model.parameters(), \"lr\": params[\"learning_rate\"],\"weight_decay\":params[\"weight_decay\"]}]\n",
        "    optimizer = torch.optim.AdamW(model_param_group)\n",
        "\n",
        "    kf = KFold(n_splits=num_folds, shuffle=True, random_state=42)\n",
        "    # dataset = raw_dataset\n",
        "    num_epochs = params[\"num_epochs\"]\n",
        "    # Training loop for K-fold cross-validation\n",
        "    fold_accuracies = []\n",
        "    for fold, (train_indices, test_indices) in enumerate(kf.split(dataset)):\n",
        "        model.reset_parameters()\n",
        "        # print(f\"Fold {fold + 1}/{num_folds}\")\n",
        "\n",
        "        # Split the dataset into training and test sets\n",
        "        train_dataset = torch.utils.data.Subset(dataset, train_indices)\n",
        "        test_dataset = torch.utils.data.Subset(dataset, test_indices)\n",
        "\n",
        "        # Create DataLoader for training and test sets with mini-batching\n",
        "        train_loader = DataLoader(train_dataset, batch_size=batch_size, shuffle=True)\n",
        "        test_loader = DataLoader(test_dataset, batch_size=batch_size, shuffle=False)\n",
        "\n",
        "        best_accuracy = 0.0\n",
        "        no_improvement_count = 0\n",
        "        patience = 50\n",
        "\n",
        "        # Training loop\n",
        "        for epoch in range(num_epochs):\n",
        "            model.train()\n",
        "            for data in train_loader:\n",
        "                # Extract batch variable\n",
        "                batch = data.batch\n",
        "\n",
        "                # Your mini-batch training logic goes here\n",
        "                # Assume data.x is node features, data.edge_index is edge indices, data.y is labels\n",
        "                x = data.x.to(device)\n",
        "                y = data.y.to(device)\n",
        "                edge_index = data.edge_index.to(device)\n",
        "                batch = batch.to(device)\n",
        "                outputs = model(x, edge_index, batch)\n",
        "                loss = criterion(outputs, y)\n",
        "\n",
        "                optimizer.zero_grad()\n",
        "                loss.backward()\n",
        "                optimizer.step()\n",
        "\n",
        "        # Testing loop\n",
        "            model.eval()\n",
        "            with torch.no_grad():\n",
        "                total_correct = 0\n",
        "                total_samples = 0\n",
        "                for data in test_loader:\n",
        "                    # Extract batch variable\n",
        "                    batch = data.batch\n",
        "\n",
        "                    # Your testing logic goes here\n",
        "                    x = data.x.to(device)\n",
        "                    y = data.y.to(device)\n",
        "                    edge_index = data.edge_index.to(device)\n",
        "                    batch = batch.to(device)\n",
        "                    outputs = model(x, edge_index, batch)\n",
        "                    _, predicted = torch.max(outputs, 1)\n",
        "                    total_correct += (predicted == y).sum().item()\n",
        "                    total_samples += data.y.size(0)\n",
        "\n",
        "                accuracy = total_correct / total_samples\n",
        "                if accuracy > best_accuracy:\n",
        "                    best_accuracy = accuracy\n",
        "                    no_improvement_count = 0\n",
        "                else:\n",
        "                    no_improvement_count += 1\n",
        "\n",
        "                if no_improvement_count >= patience:\n",
        "                    # print(f\"Early stopping after {no_improvement_count} epochs without improvement ({epoch}).\")\n",
        "                    break\n",
        "        fold_accuracies.append(accuracy)\n",
        "            # print(f\"Fold {fold + 1}/{num_folds}, Test Accuracy: {accuracy}\")\n",
        "\n",
        "        # print(\"\")\n",
        "\n",
        "    # Calculate mean and standard deviation of accuracies across folds\n",
        "    mean_accuracy = torch.tensor(fold_accuracies).mean().item()\n",
        "    std_dev_accuracy = torch.tensor(fold_accuracies).std().item()\n",
        "\n",
        "    return f\"Mean Test Accuracy: {mean_accuracy:.4f} +- {std_dev_accuracy:.4f}\"\n",
        "# print(\"GCN\")\n",
        "# train_test(GCNModel,MUTAG)\n",
        "# print(\"GIN\")\n",
        "# train_test(GINModel,MUTAG)\n",
        "# print(\"GAT\")\n",
        "# train_test(GATModel,MUTAG)"
      ],
      "metadata": {
        "id": "CzfhHXHlonrj"
      },
      "execution_count": 89,
      "outputs": []
    },
    {
      "cell_type": "code",
      "source": [
        "BaseModels = {\"GCN\":GCNModel,\"GIN\":GINModel,\"GAT\":GATModel}\n",
        "JKModels = {\"GCN_CAT\":GCNConcatModel,\"GCN_MAX\":GCNMaxModel,\"GCN_LSTM\":GCNLstmModel,\"GIN_CAT\":GINConcatModel,\"GIN_MAX\":GINMaxModel,\"GIN_LSTM\":GCNConcatModel,\"GAT_CAT\":GATConcatModel,\"GAT_MAX\":GATMaxModel,\"GAT_LSTM\":GATLstmModel}\n"
      ],
      "metadata": {
        "id": "s0l9wYskxAPX"
      },
      "execution_count": 90,
      "outputs": []
    },
    {
      "cell_type": "code",
      "source": [
        "\n",
        "for model_name,model in BaseModels.items():\n",
        "  result = train_test(model,IMDB_BIN)\n",
        "  print(f\"\\t {model_name}: {result}\")\n",
        "for model_name,model in JKModels.items():\n",
        "  result = train_test(model,IMDB_BIN)\n",
        "  print(f\"\\t {model_name}: {result}\")\n",
        "\n"
      ],
      "metadata": {
        "colab": {
          "base_uri": "https://localhost:8080/"
        },
        "id": "hhO1g16cyUV9",
        "outputId": "e5544427-3b14-487c-b0ea-5cf2b235ccdb"
      },
      "execution_count": 92,
      "outputs": [
        {
          "output_type": "stream",
          "name": "stdout",
          "text": [
            "Mean Test Accuracy: 0.7260 +- 0.0165\n",
            "Mean Test Accuracy: 0.7330 +- 0.0386\n",
            "Mean Test Accuracy: 0.7280 +- 0.0426\n"
          ]
        }
      ]
    }
  ]
}
